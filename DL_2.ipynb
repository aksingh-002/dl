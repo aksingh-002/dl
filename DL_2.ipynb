{
 "cells": [
  {
   "cell_type": "code",
   "execution_count": 147,
   "metadata": {
    "executionInfo": {
     "elapsed": 710,
     "status": "ok",
     "timestamp": 1683705530410,
     "user": {
      "displayName": "Abhishek Kumar Singh",
      "userId": "15420459957370696427"
     },
     "user_tz": -330
    },
    "id": "NBYvO352q0kC"
   },
   "outputs": [],
   "source": [
    "import tensorflow as tf"
   ]
  },
  {
   "cell_type": "code",
   "execution_count": 158,
   "metadata": {
    "executionInfo": {
     "elapsed": 560,
     "status": "ok",
     "timestamp": 1683707502898,
     "user": {
      "displayName": "Abhishek Kumar Singh",
      "userId": "15420459957370696427"
     },
     "user_tz": -330
    },
    "id": "hDUHKP0GTrXv"
   },
   "outputs": [],
   "source": [
    "from keras import models, layers, optimizers\n",
    "\n",
    "from keras.preprocessing.text import Tokenizer\n",
    "from tensorflow.keras.preprocessing.sequence import pad_sequences\n",
    "\n",
    "from sklearn import preprocessing\n",
    "\n",
    "import pandas as pd\n",
    "import numpy as np"
   ]
  },
  {
   "cell_type": "code",
   "execution_count": 159,
   "metadata": {
    "executionInfo": {
     "elapsed": 2219,
     "status": "ok",
     "timestamp": 1683707516613,
     "user": {
      "displayName": "Abhishek Kumar Singh",
      "userId": "15420459957370696427"
     },
     "user_tz": -330
    },
    "id": "YsG2-tnHlQgL"
   },
   "outputs": [],
   "source": [
    "imdb_df = pd.read_csv('IMDB Dataset.csv')"
   ]
  },
  {
   "cell_type": "code",
   "execution_count": 160,
   "metadata": {
    "executionInfo": {
     "elapsed": 2,
     "status": "ok",
     "timestamp": 1683707519287,
     "user": {
      "displayName": "Abhishek Kumar Singh",
      "userId": "15420459957370696427"
     },
     "user_tz": -330
    },
    "id": "tFMtR_RKogUE"
   },
   "outputs": [],
   "source": [
    "train_df = imdb_df.sample(frac=0.8, random_state=42)\n",
    "test_df = imdb_df.drop(train_df.index)"
   ]
  },
  {
   "cell_type": "code",
   "execution_count": 161,
   "metadata": {
    "executionInfo": {
     "elapsed": 18600,
     "status": "ok",
     "timestamp": 1683707672018,
     "user": {
      "displayName": "Abhishek Kumar Singh",
      "userId": "15420459957370696427"
     },
     "user_tz": -330
    },
    "id": "UuD0KVK3nlO9"
   },
   "outputs": [],
   "source": [
    "tokenizer = Tokenizer(num_words=10000)\n",
    "tokenizer.fit_on_texts(train_df['review'].to_list())\n",
    "\n",
    "train_seq = tokenizer.texts_to_sequences(train_df['review'].tolist())\n",
    "test_seq = tokenizer.texts_to_sequences(test_df['review'].tolist())\n",
    "\n",
    "max_len = 200\n",
    "train_data = pad_sequences(train_seq, maxlen=max_len)\n",
    "test_data = pad_sequences(test_seq, maxlen=max_len)\n",
    "\n",
    "label_encoder = preprocessing.LabelEncoder()\n",
    "train_labels = label_encoder.fit_transform(train_df['sentiment'])\n",
    "test_labels = label_encoder.fit_transform(test_df['sentiment'])"
   ]
  },
  {
   "cell_type": "code",
   "execution_count": 169,
   "metadata": {
    "colab": {
     "base_uri": "https://localhost:8080/"
    },
    "executionInfo": {
     "elapsed": 1002,
     "status": "ok",
     "timestamp": 1683707829453,
     "user": {
      "displayName": "Abhishek Kumar Singh",
      "userId": "15420459957370696427"
     },
     "user_tz": -330
    },
    "id": "OXxuiwu-oTqS",
    "outputId": "c08a610a-f654-4faf-b6b1-a22232a8ae0c"
   },
   "outputs": [
    {
     "name": "stdout",
     "output_type": "stream",
     "text": [
      "Model: \"sequential_6\"\n",
      "_________________________________________________________________\n",
      " Layer (type)                Output Shape              Param #   \n",
      "=================================================================\n",
      " embedding_6 (Embedding)     (None, 200, 64)           6400000   \n",
      "                                                                 \n",
      " flatten_6 (Flatten)         (None, 12800)             0         \n",
      "                                                                 \n",
      " dense_18 (Dense)            (None, 32)                409632    \n",
      "                                                                 \n",
      " dense_19 (Dense)            (None, 16)                528       \n",
      "                                                                 \n",
      " dense_20 (Dense)            (None, 1)                 17        \n",
      "                                                                 \n",
      "=================================================================\n",
      "Total params: 6,810,177\n",
      "Trainable params: 6,810,177\n",
      "Non-trainable params: 0\n",
      "_________________________________________________________________\n"
     ]
    }
   ],
   "source": [
    "model = models.Sequential([\n",
    "    tf.keras.layers.Embedding(100000, 64, input_length=max_len),\n",
    "    tf.keras.layers.Flatten(),\n",
    "    tf.keras.layers.Dense(32, activation='relu'),\n",
    "    tf.keras.layers.Dense(16, activation='relu'),\n",
    "    tf.keras.layers.Dense(1, activation='sigmoid')\n",
    "])\n",
    "model.summary()"
   ]
  },
  {
   "cell_type": "code",
   "execution_count": 175,
   "metadata": {
    "executionInfo": {
     "elapsed": 2,
     "status": "ok",
     "timestamp": 1683709122523,
     "user": {
      "displayName": "Abhishek Kumar Singh",
      "userId": "15420459957370696427"
     },
     "user_tz": -330
    },
    "id": "9a042keysRr_"
   },
   "outputs": [],
   "source": [
    "model.compile(loss='binary_crossentropy', optimizer='adam', metrics=['accuracy'])"
   ]
  },
  {
   "cell_type": "code",
   "execution_count": 176,
   "metadata": {
    "colab": {
     "base_uri": "https://localhost:8080/"
    },
    "executionInfo": {
     "elapsed": 1163800,
     "status": "ok",
     "timestamp": 1683710291236,
     "user": {
      "displayName": "Abhishek Kumar Singh",
      "userId": "15420459957370696427"
     },
     "user_tz": -330
    },
    "id": "eEJQl8ezsSXE",
    "outputId": "a0ada913-ddf6-4ea1-f2b3-3173365b60f5"
   },
   "outputs": [
    {
     "name": "stdout",
     "output_type": "stream",
     "text": [
      "Epoch 1/10\n",
      "1250/1250 [==============================] - 118s 94ms/step - loss: 0.0082 - accuracy: 0.9972 - val_loss: 0.9013 - val_accuracy: 0.8571\n",
      "Epoch 2/10\n",
      "1250/1250 [==============================] - 113s 91ms/step - loss: 7.3495e-04 - accuracy: 0.9998 - val_loss: 1.1132 - val_accuracy: 0.8575\n",
      "Epoch 3/10\n",
      "1250/1250 [==============================] - 115s 92ms/step - loss: 2.9775e-05 - accuracy: 1.0000 - val_loss: 1.1701 - val_accuracy: 0.8580\n",
      "Epoch 4/10\n",
      "1250/1250 [==============================] - 115s 92ms/step - loss: 3.6919e-06 - accuracy: 1.0000 - val_loss: 1.2045 - val_accuracy: 0.8577\n",
      "Epoch 5/10\n",
      "1250/1250 [==============================] - 116s 93ms/step - loss: 1.9013e-06 - accuracy: 1.0000 - val_loss: 1.2421 - val_accuracy: 0.8574\n",
      "Epoch 6/10\n",
      "1250/1250 [==============================] - 109s 87ms/step - loss: 1.0587e-06 - accuracy: 1.0000 - val_loss: 1.2840 - val_accuracy: 0.8572\n",
      "Epoch 7/10\n",
      "1250/1250 [==============================] - 114s 91ms/step - loss: 5.8122e-07 - accuracy: 1.0000 - val_loss: 1.3290 - val_accuracy: 0.8573\n",
      "Epoch 8/10\n",
      "1250/1250 [==============================] - 115s 92ms/step - loss: 3.1580e-07 - accuracy: 1.0000 - val_loss: 1.3763 - val_accuracy: 0.8569\n",
      "Epoch 9/10\n",
      "1250/1250 [==============================] - 114s 91ms/step - loss: 1.7037e-07 - accuracy: 1.0000 - val_loss: 1.4280 - val_accuracy: 0.8576\n",
      "Epoch 10/10\n",
      "1250/1250 [==============================] - 113s 90ms/step - loss: 9.0530e-08 - accuracy: 1.0000 - val_loss: 1.4796 - val_accuracy: 0.8572\n"
     ]
    }
   ],
   "source": [
    "history = model.fit(train_data, train_labels, epochs=10, batch_size=32, validation_data=(test_data, test_labels))"
   ]
  },
  {
   "cell_type": "code",
   "execution_count": 177,
   "metadata": {
    "colab": {
     "base_uri": "https://localhost:8080/"
    },
    "executionInfo": {
     "elapsed": 2817,
     "status": "ok",
     "timestamp": 1683710310640,
     "user": {
      "displayName": "Abhishek Kumar Singh",
      "userId": "15420459957370696427"
     },
     "user_tz": -330
    },
    "id": "KS029hgWsZra",
    "outputId": "dc26f2e3-b840-4c3d-aa09-1c10fbb22b2e"
   },
   "outputs": [
    {
     "name": "stdout",
     "output_type": "stream",
     "text": [
      "313/313 [==============================] - 1s 3ms/step - loss: 1.4796 - accuracy: 0.8572\n",
      "Test loss: 1.48, Test accuracy: 85.72%\n"
     ]
    }
   ],
   "source": [
    "test_loss, test_accuracy = model.evaluate(test_data, test_labels)\n",
    "print(f'Test loss: {test_loss:.2f}, Test accuracy: {test_accuracy:.2%}')"
   ]
  },
  {
   "cell_type": "code",
   "execution_count": 178,
   "metadata": {
    "colab": {
     "base_uri": "https://localhost:8080/",
     "height": 562
    },
    "executionInfo": {
     "elapsed": 9,
     "status": "ok",
     "timestamp": 1683710310640,
     "user": {
      "displayName": "Abhishek Kumar Singh",
      "userId": "15420459957370696427"
     },
     "user_tz": -330
    },
    "id": "WdgfWW_xtSBY",
    "outputId": "a4e1e043-3f97-435a-b467-21ff87821468"
   },
   "outputs": [
    {
     "data": {
      "text/plain": [
       "Text(0.5, 1.0, 'Loss evolution')"
      ]
     },
     "execution_count": 178,
     "metadata": {},
     "output_type": "execute_result"
    },
    {
     "data": {
      "image/png": "[encoded data removed]",
      "text/plain": [
       "<Figure size 800x600 with 1 Axes>"
      ]
     },
     "metadata": {},
     "output_type": "display_data"
    }
   ],
   "source": [
    "plt.figure(figsize=(8, 6))\n",
    "\n",
    "plt.plot(history.history['loss'], label='Loss')\n",
    "plt.plot(history.history['val_loss'], label='val_Loss')\n",
    "plt.legend()\n",
    "plt.title('Loss evolution')"
   ]
  },
  {
   "cell_type": "code",
   "execution_count": 179,
   "metadata": {
    "colab": {
     "base_uri": "https://localhost:8080/",
     "height": 562
    },
    "executionInfo": {
     "elapsed": 1019,
     "status": "ok",
     "timestamp": 1683710327734,
     "user": {
      "displayName": "Abhishek Kumar Singh",
      "userId": "15420459957370696427"
     },
     "user_tz": -330
    },
    "id": "fYTiuNaetgvp",
    "outputId": "2344bc8c-f6db-4b1c-86ae-41a6850097a4"
   },
   "outputs": [
    {
     "data": {
      "text/plain": [
       "Text(0.5, 1.0, 'Accuracy evolution')"
      ]
     },
     "execution_count": 179,
     "metadata": {},
     "output_type": "execute_result"
    },
    {
     "data": {
      "image/png": "[encoded data removed]",
      "text/plain": [
       "<Figure size 800x600 with 1 Axes>"
      ]
     },
     "metadata": {},
     "output_type": "display_data"
    }
   ],
   "source": [
    "plt.figure(figsize=(8, 6))\n",
    "\n",
    "plt.plot(history.history['accuracy'], label='accuracy')\n",
    "plt.plot(history.history['val_accuracy'], label='val_accuracy')\n",
    "plt.legend()\n",
    "plt.title('Accuracy evolution')"
   ]
  },
  {
   "cell_type": "code",
   "execution_count": 181,
   "metadata": {
    "colab": {
     "base_uri": "https://localhost:8080/"
    },
    "executionInfo": {
     "elapsed": 3334,
     "status": "ok",
     "timestamp": 1683710388478,
     "user": {
      "displayName": "Abhishek Kumar Singh",
      "userId": "15420459957370696427"
     },
     "user_tz": -330
    },
    "id": "Bf3u4gMQfSMp",
    "outputId": "f84ba003-3514-4027-88ab-ba0d0c5b89a8"
   },
   "outputs": [
    {
     "name": "stdout",
     "output_type": "stream",
     "text": [
      "313/313 [==============================] - 1s 3ms/step\n"
     ]
    }
   ],
   "source": [
    "predictions = model.predict(test_data)"
   ]
  },
  {
   "cell_type": "code",
   "execution_count": 182,
   "metadata": {
    "colab": {
     "base_uri": "https://localhost:8080/"
    },
    "executionInfo": {
     "elapsed": 5,
     "status": "ok",
     "timestamp": 1683710403573,
     "user": {
      "displayName": "Abhishek Kumar Singh",
      "userId": "15420459957370696427"
     },
     "user_tz": -330
    },
    "id": "2UujKsA2k20H",
    "outputId": "ad012afa-3fb8-4ec0-965f-c113da5cfb4c"
   },
   "outputs": [
    {
     "name": "stdout",
     "output_type": "stream",
     "text": [
      "[0.1520972] 0\n"
     ]
    }
   ],
   "source": [
    "print(predictions[6], test_labels[6])"
   ]
  }
 ],
 "metadata": {
  "colab": {
   "authorship_tag": "ABX9TyP8ygbteIK08DkqjMMaA9ji",
   "provenance": []
  },
  "kernelspec": {
   "display_name": "Python 3 (ipykernel)",
   "language": "python",
   "name": "python3"
  },
  "language_info": {
   "codemirror_mode": {
    "name": "ipython",
    "version": 3
   },
   "file_extension": ".py",
   "mimetype": "text/x-python",
   "name": "python",
   "nbconvert_exporter": "python",
   "pygments_lexer": "ipython3",
   "version": "3.9.5"
  }
 },
 "nbformat": 4,
 "nbformat_minor": 1
}
